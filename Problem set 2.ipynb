{
 "cells": [
  {
   "cell_type": "markdown",
   "metadata": {},
   "source": [
    "# Problem set 2 "
   ]
  },
  {
   "cell_type": "markdown",
   "metadata": {},
   "source": [
    "# Question 1"
   ]
  },
  {
   "cell_type": "code",
   "execution_count": 34,
   "metadata": {},
   "outputs": [],
   "source": [
    "a = 0\n",
    "\n",
    "def b():\n",
    "    global a\n",
    "    a = c(a)\n",
    "    \n",
    "def c(a):\n",
    "    return a + 2"
   ]
  },
  {
   "cell_type": "code",
   "execution_count": 35,
   "metadata": {},
   "outputs": [],
   "source": [
    "b()\n",
    "b()\n",
    "b()"
   ]
  },
  {
   "cell_type": "code",
   "execution_count": 37,
   "metadata": {},
   "outputs": [
    {
     "data": {
      "text/plain": [
       "6"
      ]
     },
     "execution_count": 37,
     "metadata": {},
     "output_type": "execute_result"
    }
   ],
   "source": [
    "a"
   ]
  },
  {
   "cell_type": "raw",
   "metadata": {},
   "source": [
    "Output that we will get is 6 because a is global variable that is declared inside function b(), so everytime b() is called a is then passed on to function c(a) which return value a+2 in a,  everytime we run b()"
   ]
  },
  {
   "cell_type": "markdown",
   "metadata": {},
   "source": [
    "# Question 2# "
   ]
  },
  {
   "cell_type": "code",
   "execution_count": 7,
   "metadata": {},
   "outputs": [],
   "source": [
    "def fileLength(F_name):  #defining a function and F_name denotes name of file to open\n",
    "    try:\n",
    "        \n",
    "        o=open(F_name) #Opening the file f_name\n",
    "        b=o.read()    #Reading file to check length\n",
    "        len(b)       #Checking length of file\n",
    "        \n",
    "        return len(b) #returning length of file\n",
    "        \n",
    "    except FileNotFoundError:   #if file is not found, this exception will come into play \n",
    "        print(\"File \"+F_name+ \" not found.\") #and then this shall be printed"
   ]
  },
  {
   "cell_type": "code",
   "execution_count": 8,
   "metadata": {},
   "outputs": [
    {
     "data": {
      "text/plain": [
       "302"
      ]
     },
     "execution_count": 8,
     "metadata": {},
     "output_type": "execute_result"
    }
   ],
   "source": [
    "fileLength(\"first.py\")"
   ]
  },
  {
   "cell_type": "code",
   "execution_count": 9,
   "metadata": {},
   "outputs": [
    {
     "name": "stdout",
     "output_type": "stream",
     "text": [
      "File firstone.py not found.\n"
     ]
    }
   ],
   "source": [
    "fileLength(\"firstone.py\")"
   ]
  },
  {
   "cell_type": "markdown",
   "metadata": {},
   "source": [
    "# Question 3"
   ]
  },
  {
   "cell_type": "code",
   "execution_count": 15,
   "metadata": {},
   "outputs": [],
   "source": [
    "class Marsupial: #defining a class \n",
    "    \n",
    "    def __init__(main):  #defining __init__ fucntion \n",
    "        main.pouch=[]  #creating an empty list \n",
    "        \n",
    "    def put_in_pouch(main,item): #definning function to add items in list\n",
    "                main.pouch.append(item)  #appending items\n",
    "        \n",
    "    def pouch_contents(main):   #returning the contents of list     \n",
    "        return (main.pouch)\n",
    "        \n",
    "class Kangaroo(Marsupial):  # creating kangaroo class that inherits Marsupial\n",
    "    \n",
    "        def __init__(main,x,y): # defining __init function that inherits main and adding x and y co-ordinates.\n",
    "            main.x=x   \n",
    "            main.y=y\n",
    "            Marsupial.__init__(main)\n",
    "            \n",
    "        def jump(main,dx,dy): #defining function Jump that adding the  dx and dy \n",
    "            main.x=main.x+dy  #adding the Co-ordinates \n",
    "            main.y=main.y+dy\n",
    "            \n",
    "        def __str__(main): # This method returns the string representation of the object. \n",
    "            return (\"I am a Kangaroo located at coordinates(\" +str(main.x)+ \",\" +str(main.y)+ \")\")\n",
    "                "
   ]
  },
  {
   "cell_type": "code",
   "execution_count": 16,
   "metadata": {},
   "outputs": [
    {
     "name": "stdout",
     "output_type": "stream",
     "text": [
      "I am a Kangaroo located at coordinates(0,0)\n"
     ]
    }
   ],
   "source": [
    "k = Kangaroo(0,0)\n",
    "print(k)"
   ]
  },
  {
   "cell_type": "code",
   "execution_count": 17,
   "metadata": {},
   "outputs": [],
   "source": [
    "k.put_in_pouch('doll')\n",
    "k.put_in_pouch('firetruck') \n",
    "k.put_in_pouch('kitten')"
   ]
  },
  {
   "cell_type": "markdown",
   "metadata": {},
   "source": [
    "# Question 4"
   ]
  },
  {
   "cell_type": "markdown",
   "metadata": {},
   "source": [
    "Calculator"
   ]
  },
  {
   "cell_type": "code",
   "execution_count": null,
   "metadata": {},
   "outputs": [],
   "source": [
    "import tkinter\n",
    "from tkinter import *\n",
    "import math\n",
    "root=tkinter.Tk()\n",
    "\n",
    "val=\"\" #creating the val variable in which result and integers would be displayed on bar\n",
    "A=0    #created variable a to convert value into int \n",
    "operator=\"\" #created variable for operators involved in different calculations|\n",
    "\n",
    "\n",
    "#defining functions when buttons are clicked\n",
    "def btn0_isclicked():\n",
    "    global val #using global val that will be displayed in bar.\n",
    "    val=val+\"0\" #whenever button is pressed value is added to the current value in cal\n",
    "    data.set(val)\n",
    "\n",
    "def btn1_isclicked():\n",
    "    global val\n",
    "    val=val+\"1\"\n",
    "    data.set(val)\n",
    "\n",
    "def btn2_isclicked():\n",
    "    global val\n",
    "    val=val+\"2\"\n",
    "    data.set(val)\n",
    "\n",
    "def btn3_isclicked():\n",
    "    global val\n",
    "    val=val+\"3\"\n",
    "    data.set(val)\n",
    "\n",
    "def btn4_isclicked():\n",
    "    global val\n",
    "    val=val+\"4\"\n",
    "    data.set(val)\n",
    "    \n",
    "def btn5_isclicked():\n",
    "    global val\n",
    "    val=val+\"5\"\n",
    "    data.set(val)\n",
    "    \n",
    "def btn6_isclicked():\n",
    "    global val\n",
    "    val=val+\"6\"\n",
    "    data.set(val)\n",
    "        \n",
    "def btn7_isclicked():\n",
    "    global val\n",
    "    val=val+\"7\"\n",
    "    data.set(val)\n",
    "        \n",
    "def btn8_isclicked():\n",
    "    global val\n",
    "    val=val+\"8\"\n",
    "    data.set(val)\n",
    "    \n",
    "    \n",
    "def btn9_isclicked():\n",
    "    global val\n",
    "    val=val+\"9\"\n",
    "    data.set(val)\n",
    "\n",
    "def btnMN_isclicked():\n",
    "    global val \n",
    "    global A \n",
    "    global operator \n",
    "    A=int(val) #converting val to int ans then passing to A\n",
    "    operator=\"-\"\n",
    "    val=val+\"-\"\n",
    "    data.set(val)\n",
    "    \n",
    "def btnSQ_isclicked():\n",
    "    global val \n",
    "    global A\n",
    "    global operator \n",
    "    A=int(val)\n",
    "    operator=\"**2\"\n",
    "    val=val+\"**2\"\n",
    "    data.set(val)  \n",
    "    \n",
    "def btnSQRT_isclicked():\n",
    "    global val \n",
    "    global A\n",
    "    global operator \n",
    "    A=int(val)\n",
    "    operator=\"Sqrt\"\n",
    "    val=val+\"Sqrt\"\n",
    "    data.set(val)\n",
    "\n",
    "def btnML_isclicked():\n",
    "    global val \n",
    "    global A\n",
    "    global operator \n",
    "    A=int(val)\n",
    "    operator=\"*\"\n",
    "    val=val+\"*\"\n",
    "    data.set(val)\n",
    "    \n",
    "def btnPL_isclicked():\n",
    "    global val \n",
    "    global A\n",
    "    global operator \n",
    "    A=int(val)\n",
    "    operator=\"+\"\n",
    "    val=val+\"+\"\n",
    "    data.set(val)\n",
    "\n",
    "def btnMpl_isclicked():\n",
    "    global val \n",
    "    global A\n",
    "    global operator \n",
    "    A=int(val)\n",
    "    operator=\"+\"\n",
    "    val=val+\"+\"\n",
    "    data.set(val)\n",
    "\n",
    "\n",
    "def btnMmin_isclicked():\n",
    "    global val \n",
    "    global A\n",
    "    global operator \n",
    "    A=int(val)\n",
    "    operator=\"M-\"\n",
    "    val=val+\"M-\"\n",
    "    data.set(val)\n",
    "\n",
    "\n",
    "def btnMR_isclicked():\n",
    "    global val \n",
    "    global A\n",
    "    global operator \n",
    "    A=int(val)\n",
    "    operator=\"MR\"\n",
    "    val=val+\"MR\"\n",
    "    data.set(val)\n",
    "\n",
    "def btnPLMN_isclicked():\n",
    "    global val\n",
    "    val=val+\"+\"\n",
    "    data.set(val)\n",
    "    \n",
    "def btnSL_isclicked():\n",
    "    global val \n",
    "    global A\n",
    "    global operator \n",
    "    A=int(val)\n",
    "    operator=\"/\"\n",
    "    val=val+\"/\"\n",
    "    data.set(val)\n",
    "    \n",
    "def btnDT_isclicked():\n",
    "    global val \n",
    "    global A\n",
    "    global operator \n",
    "    A=int(val)\n",
    "    operator=\".\"\n",
    "    val=val+\".\"\n",
    "    data.set(val)   \n",
    "    \n",
    "def c_clicked():\n",
    "    global val\n",
    "    global A\n",
    "    global operator\n",
    "    val=\"\"\n",
    "    A=\"\"\n",
    "    operator=\"\"\n",
    "    data.set(val)\n",
    "    \n",
    "def btnEQ_isclicked():  #when Equal is pressed then result will load and based on the operator that we have choosed.\n",
    "    global val \n",
    "    global A\n",
    "    global operator \n",
    "    val2=val\n",
    "    \n",
    "    if operator==\"+\": \n",
    "        x=int((val2.split(\"+\")[1]))  #splitting the value in bar after operator and storing it in x \n",
    "        C=A+x        #adding value before operator and after the operator\n",
    "        data.set(C)\n",
    "        val=str(C)\n",
    "        \n",
    "    elif operator==\"-\":\n",
    "        x=int((val2.split(\"-\")[1]))\n",
    "        C=A-x\n",
    "        data.set(C)\n",
    "        val=str(C)\n",
    "        \n",
    "    elif operator==\"/\":\n",
    "        x=int((val2.split(\"/\")[1]))\n",
    "        C=A/x\n",
    "        data.set(C)\n",
    "        val=str(C)  \n",
    "        \n",
    "    elif operator==\"**2\":\n",
    "        x=int((val.split(\"**2\")[0]))\n",
    "        C=x**2\n",
    "        data.set(C)\n",
    "        val=str(C) \n",
    "    \n",
    "    elif operator==\"Sqrt\":\n",
    "        x=int((val.split(\"Sqrt\")[0]))\n",
    "        C=(math.sqrt(x))\n",
    "        data.set(C)\n",
    "        val=str(C)\n",
    "        \n",
    "\n",
    "    elif operator==\"*\":\n",
    "        x=int((val2.split(\"*\")[1]))\n",
    "        C=x*x\n",
    "        data.set(C)\n",
    "        val=str(C)  \n",
    "        \n",
    "   \n",
    "    \n",
    "data=StringVar() #creating a string in which data would be stored\n",
    "\n",
    "bar=Label(root, text=\"label\",anchor=SE,font=(20),textvariable=data,bg=\"#D3D3D3\",fg=\"black\")\n",
    "bar.pack(expand=True, fill=\"both\") #creating bar in which digits will appear\n",
    "\n",
    "\n",
    "btnrow1=Frame(root)#creating row 1 for 4 buttons to insert\n",
    "btnrow1.pack(expand=True,fill=\"both\")#expanding the buttons upto the extent of screen\n",
    "\n",
    "btnrow2=Frame(root) #creating row2\n",
    "btnrow2.pack(expand=True,fill=\"both\")\n",
    "\n",
    "btnrow3=Frame(root)#creating row3\n",
    "btnrow3.pack(expand=True,fill=\"both\")\n",
    "\n",
    "btnrow4=Frame(root)#creating row4\n",
    "btnrow4.pack(expand=True,fill=\"both\")\n",
    "\n",
    "btnrow5=Frame(root)#creating row5\n",
    "btnrow5.pack(expand=True,fill=\"both\")\n",
    "\n",
    "btnrow6=Frame(root)#creating row6\n",
    "btnrow6.pack(expand=True,fill=\"both\")\n",
    "\n",
    "\n",
    "#Creating button in row 6\n",
    "btn1=Button(btnrow6,text=\"0\",font=(18),width=5,command= btn0_isclicked)\n",
    "btn1.pack(side=LEFT,expand=True, fill=\"both\")\n",
    "\n",
    "btn1=Button(btnrow6,text=\".\",font=(18),width=5,command= btnDT_isclicked)\n",
    "btn1.pack(side=LEFT,expand=True, fill=\"both\")\n",
    "\n",
    "btn1=Button(btnrow6,text=\"+-\",font=(18),width=5,command= btnPLMN_isclicked)\n",
    "btn1.pack(side=LEFT,expand=True, fill=\"both\")\n",
    "\n",
    "btn1=Button(btnrow6,text=\"=\",font=(18),width=5,command= btnEQ_isclicked)\n",
    "btn1.pack(side=LEFT,expand=True, fill=\"both\")\n",
    "\n",
    "\n",
    "#Creating button in row 5\n",
    "btn1=Button(btnrow5,text=\"1\",font=(18),width=5, command= btn1_isclicked )\n",
    "btn1.pack(side=LEFT,expand=True, fill=\"both\")\n",
    "\n",
    "btn1=Button(btnrow5,text=\"2\",font=(18),width=5,command= btn2_isclicked)\n",
    "btn1.pack(side=LEFT,expand=True, fill=\"both\")\n",
    "\n",
    "btn1=Button(btnrow5,text=\"3\",font=(18),width=5,command= btn3_isclicked)\n",
    "btn1.pack(side=LEFT,expand=True, fill=\"both\")\n",
    "\n",
    "btn1=Button(btnrow5,text=\"/\",font=(18),width=5,command= btnSL_isclicked)\n",
    "btn1.pack(side=LEFT,expand=True, fill=\"both\")\n",
    "\n",
    "\n",
    "#Creating button in row 4\n",
    "btn1=Button(btnrow4,text=\"4\",font=(18),width=5,command= btn4_isclicked)\n",
    "btn1.pack(side=LEFT,expand=True, fill=\"both\")\n",
    "\n",
    "btn1=Button(btnrow4,text=\"5\",font=(18),width=5,command= btn5_isclicked)\n",
    "btn1.pack(side=LEFT,expand=True, fill=\"both\")\n",
    "\n",
    "btn1=Button(btnrow4,text=\"6\",font=(18),width=5,command= btn6_isclicked)\n",
    "btn1.pack(side=LEFT,expand=True, fill=\"both\")\n",
    "\n",
    "btn1=Button(btnrow4,text=\"*\",font=(18),width=5,command= btnML_isclicked)\n",
    "btn1.pack(side=LEFT,expand=True, fill=\"both\")\n",
    "\n",
    "\n",
    "#Creating button in row 3\n",
    "btn1=Button(btnrow3,text=\"7\",font=(18),width=5,command= btn7_isclicked)\n",
    "btn1.pack(side=LEFT,expand=True, fill=\"both\")\n",
    "\n",
    "btn1=Button(btnrow3,text=\"8\",font=(18),width=5,command= btn8_isclicked)\n",
    "btn1.pack(side=LEFT,expand=True, fill=\"both\")\n",
    "\n",
    "btn1=Button(btnrow3,text=\"9\",font=(18),width=5,command= btn9_isclicked)\n",
    "btn1.pack(side=LEFT,expand=True, fill=\"both\")\n",
    "\n",
    "btn1=Button(btnrow3,text=\"-\",font=(18),width=5,command= btnMN_isclicked)\n",
    "btn1.pack(side=LEFT,expand=True, fill=\"both\")\n",
    "\n",
    "\n",
    "#Creating button in row2\n",
    "btn1=Button(btnrow2,text=\"C\",font=(18),width=5,command=c_clicked)\n",
    "btn1.pack(side=LEFT,expand=True, fill=\"both\")\n",
    "\n",
    "btn1=Button(btnrow2,text=\"Sqrt\",font=(18),width=5,command= btnSQRT_isclicked)\n",
    "btn1.pack(side=LEFT,expand=True, fill=\"both\")\n",
    "\n",
    "btn1=Button(btnrow2,text=\"X2\",font=(18),width=5,command= btnSQ_isclicked)\n",
    "btn1.pack(side=LEFT,expand=True, fill=\"both\")\n",
    "\n",
    "btn1=Button(btnrow2,text=\"+\",font=(18),width=5, command=btnPL_isclicked)\n",
    "btn1.pack(side=LEFT,expand=True, fill=\"both\")\n",
    "\n",
    "\n",
    "#Creating button in row 1\n",
    "btn1=Button(btnrow1,text=\"MC\",font=(18),width=5, command= c_clicked)\n",
    "btn1.pack(side=LEFT,expand=True, fill=\"both\")\n",
    "\n",
    "btn1=Button(btnrow1,text=\"M+\",font=(18),width=5,command=btnMpl_isclicked)\n",
    "btn1.pack(side=LEFT,expand=True, fill=\"both\")\n",
    "\n",
    "btn1=Button(btnrow1,text=\"M-\",font=(18),width=5,command=btnMmin_isclicked)\n",
    "btn1.pack(side=LEFT,expand=True, fill=\"both\")\n",
    "\n",
    "btn1=Button(btnrow1,text=\"MR\",font=(18),width=5, command=btnMR_isclicked)\n",
    "btn1.pack(side=LEFT,expand=True, fill=\"both\")\n",
    "\n",
    "\n",
    "root.mainloop()"
   ]
  },
  {
   "attachments": {
    "image.png": {
     "image/png": "[encoded data removed]"
    }
   },
   "cell_type": "markdown",
   "metadata": {},
   "source": [
    "![image.png](attachment:image.png)"
   ]
  },
  {
   "cell_type": "markdown",
   "metadata": {},
   "source": [
    "# Question 5 "
   ]
  },
  {
   "cell_type": "code",
   "execution_count": 49,
   "metadata": {},
   "outputs": [],
   "source": [
    "def collatz(n):  # defining function collatz that take integer n.\n",
    "      \n",
    "    while n != 1: # running statment till n is not equal to 1.\n",
    "        print(n) #printing value of n \n",
    "        \n",
    "         \n",
    "        if n % 2 ==0:  #if n is even then deviding n by 2 \n",
    "            n = n // 2\n",
    "           \n",
    "        else:  #if n is odd then multiplying odd with 3 and adding 1.\n",
    "             n = 3 * n + 1\n",
    "                \n",
    "   \n",
    "    print(n) #printing at the end when n==1\n"
   ]
  },
  {
   "cell_type": "code",
   "execution_count": 52,
   "metadata": {},
   "outputs": [
    {
     "name": "stdout",
     "output_type": "stream",
     "text": [
      "1\n"
     ]
    }
   ],
   "source": [
    "collatz(1)"
   ]
  },
  {
   "cell_type": "code",
   "execution_count": 53,
   "metadata": {},
   "outputs": [
    {
     "name": "stdout",
     "output_type": "stream",
     "text": [
      "10\n",
      "5\n",
      "16\n",
      "8\n",
      "4\n",
      "2\n",
      "1\n"
     ]
    }
   ],
   "source": [
    "collatz(10)"
   ]
  },
  {
   "cell_type": "markdown",
   "metadata": {},
   "source": [
    "# Question 6 "
   ]
  },
  {
   "cell_type": "code",
   "execution_count": 18,
   "metadata": {},
   "outputs": [],
   "source": [
    "def binary(n):   #defining function binary and defining int n\n",
    "    \n",
    "    if (n<0):    #if n is negative integer than a message is print, telling user to enter a positive integer.\n",
    "        print(\"Please enter the positive integer.\") \n",
    "        \n",
    "    else:\n",
    "        \n",
    "        print(bin(n)[2:])  #using bin method takes single parameter and convert to int to binary\n",
    "      #output by bin() is printed after [2:] because 0 and 1 values are 0b means output is binary version "
   ]
  },
  {
   "cell_type": "code",
   "execution_count": 20,
   "metadata": {},
   "outputs": [
    {
     "name": "stdout",
     "output_type": "stream",
     "text": [
      "0\n"
     ]
    }
   ],
   "source": [
    "binary(0)"
   ]
  },
  {
   "cell_type": "code",
   "execution_count": 21,
   "metadata": {},
   "outputs": [
    {
     "name": "stdout",
     "output_type": "stream",
     "text": [
      "1\n"
     ]
    }
   ],
   "source": [
    "binary(1)"
   ]
  },
  {
   "cell_type": "code",
   "execution_count": 22,
   "metadata": {},
   "outputs": [
    {
     "name": "stdout",
     "output_type": "stream",
     "text": [
      "11\n"
     ]
    }
   ],
   "source": [
    "binary(3)"
   ]
  },
  {
   "cell_type": "code",
   "execution_count": 23,
   "metadata": {},
   "outputs": [
    {
     "name": "stdout",
     "output_type": "stream",
     "text": [
      "1001\n"
     ]
    }
   ],
   "source": [
    "binary(9)"
   ]
  },
  {
   "cell_type": "markdown",
   "metadata": {},
   "source": [
    "# Question 7 "
   ]
  },
  {
   "cell_type": "code",
   "execution_count": 42,
   "metadata": {},
   "outputs": [],
   "source": [
    "from html.parser import HTMLParser #importing HTMLParser from Html.parser\n",
    "\n",
    "class HeadingParser(HTMLParser): #creating a class\n",
    "    \n",
    "    def __init__(main): #defining main \n",
    "        \n",
    "        HTMLParser.__init__(main )\n",
    "        main.doc_tag = \"\"\n",
    "\n",
    "    def handle_starttag(main, tag, attr): #defing funtion handle_startags that contain main tag and atttribute\n",
    "        main.doc_tag = tag\n",
    "    \n",
    "    \n",
    "    def handle_data(main, data):\n",
    "        if(main.doc_tag=='h1'): #if heading is h1\n",
    "            print(data)\n",
    "            \n",
    "        if(main.doc_tag=='h2'): #if heading is h1\n",
    "            print(\" \"*2,data)  # using (\" \" *level) for indentation\n",
    "            \n",
    "        if(main.doc_tag=='h3'): #if heading is h1\n",
    "            print(\" \"*3,+data)\n",
    "            \n",
    "        if(main.doc_tag=='h4'): #if heading is h1\n",
    "            print(\" \"*4,+data)\n",
    "            \n",
    "        if(main.doc_tag=='h5'):  #if heading is h1          \n",
    "            print(\" \"*6,+data)\n",
    "\n",
    "            \n",
    "        if(main.doc_tag=='h6'):  #if heading is h1\n",
    "            print(\" \"*6,+data)\n",
    "            \n",
    "        main.doc_tag = \"\""
   ]
  },
  {
   "cell_type": "code",
   "execution_count": 43,
   "metadata": {},
   "outputs": [
    {
     "name": "stdout",
     "output_type": "stream",
     "text": [
      "W3C Mission\n",
      "   Principles\n"
     ]
    }
   ],
   "source": [
    "infile = open('w3c.html')\n",
    "content = infile.read()\n",
    "hp = HeadingParser()\n",
    "hp.feed(content)"
   ]
  },
  {
   "cell_type": "markdown",
   "metadata": {},
   "source": [
    "# Question 9 "
   ]
  },
  {
   "cell_type": "raw",
   "metadata": {},
   "source": [
    " Using \"Climate\" as name of table \n",
    "    \n",
    "A) SELECT Temprature FROM Climate\n",
    "\n",
    "B) SELECT  DISTINCT City FROM Climate\n",
    "\n",
    "C) SELECT*  FROM Climate WHERE Country =\"India\"\n",
    "\n",
    "D) SELECT*  FROM Climate WHERE Season =\"Fall\"\n",
    "\n",
    "E) SELECT City, Country  FROM Climate where Season Rainfall BETWEEN 200 AND 400 \n",
    "\n",
    "F) SELECT City,Country  FROM Climate where Season =\"Fall\" and Temprature>20 ORDER BY Temprature ASC \n",
    "\n",
    "G) SELECT Sum(Rainfall) FROM Climate where City=\"Cairo\";\n",
    "\n",
    "H) SELECT Season, Sum(Rainfall) FROM Climate GROUP BY Season"
   ]
  },
  {
   "cell_type": "markdown",
   "metadata": {},
   "source": [
    "# Question 10"
   ]
  },
  {
   "cell_type": "code",
   "execution_count": 54,
   "metadata": {},
   "outputs": [
    {
     "name": "stdout",
     "output_type": "stream",
     "text": [
      "a) ['THE', 'QUICK', 'BROWN', 'FOX', 'JUMPS', 'OVER', 'THE', 'LAZY', 'DOG']\n",
      "b) ['the', 'quick', 'brown', 'fox', 'jumps', 'over', 'the', 'lazy', 'dog']\n",
      "c) [3, 5, 5, 3, 5, 4, 3, 4, 3]\n",
      "d) [['THE', 'the', 3], ['QUICK', 'quick', 5], ['BROWN', 'brown', 5], ['FOX', 'fox', 3], ['JUMPS', 'jumps', 5], ['OVER', 'over', 4], ['THE', 'the', 3], ['LAZY', 'lazy', 4], ['DOG', 'dog', 3]]\n",
      "e) ['quick', 'brown', 'jumps', 'over', 'lazy']\n"
     ]
    }
   ],
   "source": [
    "words = ['The', 'quick', 'brown', 'fox', 'jumps', 'over', 'the', 'lazy', 'dog']\n",
    "Capital_w=[] #list for storing Capital words\n",
    "Small_w=[] #list for storing small words\n",
    "Length_w=[] #list for storing length of words\n",
    "CSL=[] #list for storing Capital, small and length of words.\n",
    "\n",
    "for word in words:     #running loop through all the words  \n",
    "         \n",
    "    Capital_w+=[word.upper()]    #converting words to uppercase and storing in  Capital_w list \n",
    "   \n",
    "    Small_w+=[word.lower()]  #converting words to lowercase and storing in  Small_w list\n",
    " \n",
    "    Length_w+=[len(word)]  #checking length of words and storing in  Length_w list    \n",
    "  \n",
    "    CSL+=[[word.upper(),word.lower(),len(word)]]  \n",
    "\n",
    "Len_4=[word for word in words if len(word)>= 4] #printing words with length greater or = to 4\n",
    "    \n",
    "#Printing result\n",
    "print(\"a)\",Capital_w)\n",
    "print(\"b)\", Small_w)\n",
    "print(\"c)\",Length_w)\n",
    "print(\"d)\",CSL)   \n",
    "print(\"e)\",Len_4)"
   ]
  },
  {
   "cell_type": "code",
   "execution_count": null,
   "metadata": {},
   "outputs": [],
   "source": []
  }
 ],
 "metadata": {
  "kernelspec": {
   "display_name": "Python 3",
   "language": "python",
   "name": "python3"
  },
  "language_info": {
   "codemirror_mode": {
    "name": "ipython",
    "version": 3
   },
   "file_extension": ".py",
   "mimetype": "text/x-python",
   "name": "python",
   "nbconvert_exporter": "python",
   "pygments_lexer": "ipython3",
   "version": "3.7.6"
  }
 },
 "nbformat": 4,
 "nbformat_minor": 4
}
